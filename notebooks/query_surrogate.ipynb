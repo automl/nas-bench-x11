{
 "cells": [
  {
   "cell_type": "code",
   "execution_count": 1,
   "metadata": {},
   "outputs": [],
   "source": [
    "%load_ext autoreload\n",
    "%autoreload 2\n",
    "%matplotlib inline"
   ]
  },
  {
   "cell_type": "code",
   "execution_count": 11,
   "metadata": {},
   "outputs": [],
   "source": [
    "import sys\n",
    "import os\n",
    "import numpy as np\n",
    "import json\n",
    "import matplotlib.pyplot as plt\n",
    "import matplotlib\n",
    "from collections import namedtuple\n",
    "matplotlib.rcParams['pdf.fonttype'] = 42\n",
    "\n",
    "HOME = os.environ.get(\"HOME\")\n",
    "sys.path.insert(0, f\"{HOME}/nas-bench-x11\")\n",
    "from nas_bench_x11.api import load_ensemble\n",
    "\n",
    "Genotype = namedtuple('Genotype', 'normal normal_concat reduce reduce_concat')"
   ]
  },
  {
   "cell_type": "code",
   "execution_count": 14,
   "metadata": {},
   "outputs": [
    {
     "name": "stdout",
     "output_type": "stream",
     "text": [
      "../checkpoints/surrogate-20211222-163453-darts\n"
     ]
    }
   ],
   "source": [
    "# load the surrogate\n",
    "nb311_surrogate_model = load_ensemble('../checkpoints/surrogate-20211222-163453-darts')\n",
    "\n",
    "# define a genotype as in the original DARTS repository\n",
    "\n",
    "\n",
    "arch = Genotype(normal=[('sep_conv_3x3', 0), ('sep_conv_5x5', 1), ('skip_connect', 1), ('max_pool_3x3', 2), ('sep_conv_3x3', 0), ('dil_conv_5x5', 1), ('sep_conv_5x5', 2), ('dil_conv_5x5', 4)], \\\n",
    "                normal_concat=[2, 3, 4, 5, 6], \\\n",
    "                reduce=[('dil_conv_5x5', 0), ('skip_connect', 1), ('avg_pool_3x3', 0), ('sep_conv_5x5', 1), ('avg_pool_3x3', 0), ('max_pool_3x3', 2), ('sep_conv_3x3', 1), ('max_pool_3x3', 3)], \\\n",
    "                reduce_concat=[4, 5, 6])\n",
    "\n",
    "# query the surrogate to output the learning curve\n",
    "learning_curve = nb311_surrogate_model.predict(config=arch, representation=\"genotype\", with_noise=True)"
   ]
  }
 ],
 "metadata": {
  "kernelspec": {
   "display_name": "Python 3",
   "language": "python",
   "name": "python3"
  },
  "language_info": {
   "codemirror_mode": {
    "name": "ipython",
    "version": 3
   },
   "file_extension": ".py",
   "mimetype": "text/x-python",
   "name": "python",
   "nbconvert_exporter": "python",
   "pygments_lexer": "ipython3",
   "version": "3.7.6"
  }
 },
 "nbformat": 4,
 "nbformat_minor": 4
}
